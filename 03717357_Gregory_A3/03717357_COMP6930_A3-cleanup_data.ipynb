{
 "cells": [
  {
   "cell_type": "code",
   "execution_count": 1,
   "metadata": {},
   "outputs": [
    {
     "name": "stdout",
     "output_type": "stream",
     "text": [
      "Populating the interactive namespace from numpy and matplotlib\n"
     ]
    }
   ],
   "source": [
    "%pylab inline\n",
    "import json\n",
    "import numpy as np\n",
    "import sklearn.cluster as cluster\n",
    "from sklearn.feature_extraction.text import CountVectorizer\n",
    "import seaborn as sns\n",
    "import os\n",
    "from collections import defaultdict"
   ]
  },
  {
   "cell_type": "code",
   "execution_count": 2,
   "metadata": {},
   "outputs": [],
   "source": [
    "def parse_data_file(path):\n",
    "    data = []\n",
    "    with open(path, 'r') as fp:\n",
    "        for line in fp:\n",
    "            point = json.loads(line)\n",
    "            text = point['text']\n",
    "            data.append(text)\n",
    "    return data"
   ]
  },
  {
   "cell_type": "code",
   "execution_count": 24,
   "metadata": {},
   "outputs": [
    {
     "data": {
      "text/plain": [
       "[('boston', 190),\n",
       " ('rt', 154),\n",
       " ('marathon', 146),\n",
       " ('to', 144),\n",
       " ('suspect', 100),\n",
       " ('the', 98),\n",
       " ('bombing', 95),\n",
       " ('in', 91),\n",
       " ('of', 59),\n",
       " ('explosion', 54),\n",
       " ('at', 53),\n",
       " ('bostonmarathon', 51),\n",
       " ('police', 47),\n",
       " ('on', 47),\n",
       " ('new', 43),\n",
       " ('news', 40),\n",
       " ('blood', 38),\n",
       " ('is', 36),\n",
       " ('images', 36),\n",
       " ('run', 33)]"
      ]
     },
     "execution_count": 24,
     "metadata": {},
     "output_type": "execute_result"
    },
    {
     "data": {
      "image/png": "[encoded data removed]",
      "text/plain": [
       "<matplotlib.figure.Figure at 0x7f6a75c8d630>"
      ]
     },
     "metadata": {},
     "output_type": "display_data"
    }
   ],
   "source": [
    "# create set to hold the unique words\n",
    "set_of_words = set()\n",
    "#typical stop words....from https://kb.yoast.com/kb/list-stop-words/\n",
    "stop_list = set([ \"a\", \"about\", \"above\", \"after\", \"again\", \"against\", \"all\", \"am\", \"an\", \"and\", \"any\", \"are\",\\\n",
    "                 \"as\", \"at\", \"be\", \"because\", \"been\", \"before\", \"being\", \"below\", \"between\", \"both\", \"but\", \"by\",\\\n",
    "                 \"could\", \"did\", \"do\", \"does\", \"doing\", \"down\", \"during\", \"each\", \"few\", \"for\", \"from\", \"further\",\\\n",
    "                 \"had\", \"has\", \"have\", \"having\", \"he\", \"he'd\", \"he'll\", \"he's\", \"her\", \"here\", \"here's\", \"hers\", \"herself\",\\\n",
    "                 \"him\", \"himself\", \"his\", \"how\", \"how's\", \"i\", \"i'd\", \"i'll\", \"i'm\", \"i've\", \"if\", \"in\", \"into\", \"is\", \"it\",\\\n",
    "                 \"it's\", \"its\", \"itself\", \"let's\", \"me\", \"more\", \"most\", \"my\", \"myself\", \"nor\", \"of\", \"on\", \"once\", \"only\",\\\n",
    "                 \"or\", \"other\", \"ought\", \"our\", \"ours\", \"ourselves\", \"out\", \"over\", \"own\", \"same\", \"she\", \"she'd\", \"she'll\",\\\n",
    "                 \"she's\", \"should\", \"so\", \"some\", \"such\", \"than\", \"that\", \"that's\", \"the\", \"their\", \"theirs\", \"them\",\\\n",
    "                 \"themselves\", \"then\", \"there\", \"there's\", \"these\", \"they\", \"they'd\", \"they'll\", \"they're\", \"they've\",\\\n",
    "                 \"this\", \"those\", \"through\", \"to\", \"too\", \"under\", \"until\", \"up\", \"very\", \"was\", \"we\", \"we'd\", \"we'll\",\\\n",
    "                 \"we're\", \"we've\", \"were\", \"what\", \"what's\", \"when\", \"when's\", \"where\", \"where's\", \"which\", \"while\", \"who\",\\\n",
    "                 \"who's\", \"whom\", \"why\", \"why's\", \"with\", \"would\", \"you\", \"you'd\", \"you'll\", \"you're\", \"you've\", \"your\",\\\n",
    "                 \"yours\", \"yourself\", \"yourselves\"])\n",
    "\n",
    "# loop through words and add to set\n",
    "list_of_words = parse_data_file('tweets.json')\n",
    "dic = {}\n",
    "for line in list_of_words:\n",
    "    for word in line.split():\n",
    "        word = \"\".join(c for c in word if c not in \",:#_.\").lower()\n",
    "        if word in dic:\n",
    "            dic[word] +=1\n",
    "        else:\n",
    "            dic[word] = 1\n",
    "data = sorted(list(dic.items()), key = lambda x: x[1], reverse=True)\n",
    "sns.barplot(x =[x[0] for x in data[:20]],y = [y[1] for y in data[:20]])\n",
    "data[:20]"
   ]
  },
  {
   "cell_type": "code",
   "execution_count": 11,
   "metadata": {},
   "outputs": [
    {
     "data": {
      "text/plain": [
       "'1231234'"
      ]
     },
     "execution_count": 11,
     "metadata": {},
     "output_type": "execute_result"
    }
   ],
   "source": [
    "\"\".join(c for c in \"123,1234\" if c not in \",\")"
   ]
  },
  {
   "cell_type": "code",
   "execution_count": null,
   "metadata": {},
   "outputs": [],
   "source": []
  }
 ],
 "metadata": {
  "kernelspec": {
   "display_name": "Python 3",
   "language": "python",
   "name": "python3"
  },
  "language_info": {
   "codemirror_mode": {
    "name": "ipython",
    "version": 3
   },
   "file_extension": ".py",
   "mimetype": "text/x-python",
   "name": "python",
   "nbconvert_exporter": "python",
   "pygments_lexer": "ipython3",
   "version": "3.6.4"
  }
 },
 "nbformat": 4,
 "nbformat_minor": 2
}
